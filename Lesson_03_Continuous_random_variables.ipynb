{
 "cells": [
  {
   "cell_type": "code",
   "execution_count": 1,
   "metadata": {
    "collapsed": false
   },
   "outputs": [
    {
     "data": {
      "text/plain": [
       "4"
      ]
     },
     "execution_count": 1,
     "metadata": {},
     "output_type": "execute_result"
    }
   ],
   "source": [
    "# Checking that the kernel is running\n",
    "+(2, 2)"
   ]
  },
  {
   "cell_type": "code",
   "execution_count": 2,
   "metadata": {
    "collapsed": true
   },
   "outputs": [],
   "source": [
    "using Gadfly;"
   ]
  },
  {
   "cell_type": "markdown",
   "metadata": {},
   "source": [
    "<hr>\n",
    "<h1>Continuous random variables</h1>\n",
    "<hr>"
   ]
  },
  {
   "cell_type": "markdown",
   "metadata": {},
   "source": [
    "<h2>Introduction</h2>"
   ]
  },
  {
   "cell_type": "markdown",
   "metadata": {},
   "source": [
    "With discrete random variable we were concerned with the probability of outcomes that came in disccrete units.  We might also want to consider the likelihood of an outcomes where such outcomes are part of a continuum of numbers.  We can no longer consider the probability of the outcomes of a discrete number of successes, but are limited to the probability of an outcome that falls between two value or at least larger than or smaller than a certain value.  With continuouis variables, no single value exists, i.e. for 0.7 I can add any number of more precise decimals (usually practically limited by the accurary of measuring apparatus).  So I can ask whether you meanst 0.707 or 0.7992 or 0.77467t43731645645634?<br/>\n",
    "We construct a density function (in discrete variables we had a frequency function).  This function has the property that the total area under the curve from $-\\infty$ to $\\infty$ is $1$.  It is just Riemann sums (of rectangles) with the base approaching a length of $0$, so $P\\left(a<X<b\\right)=\\int _{ a }^{ b }{ f\\left( x \\right) } dx$, where $X$ is the outcome we desire.  "
   ]
  },
  {
   "cell_type": "markdown",
   "metadata": {},
   "source": [
    "<hr>\n",
    "<h2>The cumulative distribution function</h2>"
   ]
  },
  {
   "cell_type": "markdown",
   "metadata": {},
   "source": [
    "The cumulative distribution function (cdf) is the integral from $-\\infty$ to a chosen value $x$, $F\\left(x\\right)=\\int _{-\\infty}^{x}{f\\left(x\\right)}dx$.<br/>\n",
    "On a continuous interval the cdf can be expressed as $P\\left(a<X<b\\right)=\\int _{a}^{b}{f\\left(x\\right)}dx=F\\left(b\\right)-F\\left(a\\right)$."
   ]
  },
  {
   "cell_type": "markdown",
   "metadata": {},
   "source": [
    "The cdf is great for calculating quatiles.  On a continuous intervals we consider a value for $x=X$ such that the area under the curve is equal to the quantile we are interested in.  To solve for this, we need the inverse of the cdf, ${F}^{-1}$.<br/>\n",
    "Let's look at a cdf of $F\\left(x\\right)={x}^{4}$ on the interval $\\left[0,1\\right]$.  The median would be the 50<sup>th</sup> percentile and require a spot in the $x$-axis that will include 50% of the area under the curve from the $-\\infty$ side.  If $F\\left(x\\right)={x}^{4}$, then ${F}^{-1}\\left(y\\right)={y}^{\\frac{1}{4}}={0.5}^{\\frac{1}{4}}$."
   ]
  },
  {
   "cell_type": "code",
   "execution_count": 3,
   "metadata": {
    "collapsed": false
   },
   "outputs": [
    {
     "data": {
      "text/plain": [
       "0.8408964152537146"
      ]
     },
     "execution_count": 3,
     "metadata": {},
     "output_type": "execute_result"
    }
   ],
   "source": [
    "# Solving the expression above\n",
    "0.5^(1/4)"
   ]
  },
  {
   "cell_type": "markdown",
   "metadata": {},
   "source": [
    "<hr>\n",
    "<h2>The exponential distribution</h2>"
   ]
  },
  {
   "cell_type": "code",
   "execution_count": null,
   "metadata": {
    "collapsed": true
   },
   "outputs": [],
   "source": []
  }
 ],
 "metadata": {
  "kernelspec": {
   "display_name": "Julia 0.4.1",
   "language": "julia",
   "name": "julia-0.4"
  },
  "language_info": {
   "file_extension": ".jl",
   "mimetype": "application/julia",
   "name": "julia",
   "version": "0.4.1"
  }
 },
 "nbformat": 4,
 "nbformat_minor": 0
}
