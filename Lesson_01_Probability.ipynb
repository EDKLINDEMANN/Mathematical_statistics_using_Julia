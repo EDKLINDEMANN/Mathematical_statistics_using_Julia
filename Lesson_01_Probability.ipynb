{
 "cells": [
  {
   "cell_type": "code",
   "execution_count": 1,
   "metadata": {
    "collapsed": false
   },
   "outputs": [
    {
     "data": {
      "text/plain": [
       "4"
      ]
     },
     "execution_count": 1,
     "metadata": {},
     "output_type": "execute_result"
    }
   ],
   "source": [
    "# Is the kernel loaded?\n",
    "+(2, 2)"
   ]
  },
  {
   "cell_type": "markdown",
   "metadata": {},
   "source": [
    "<h1>Probability</h1>"
   ]
  },
  {
   "cell_type": "markdown",
   "metadata": {},
   "source": [
    "<h2>Introduction</h2>"
   ]
  },
  {
   "cell_type": "markdown",
   "metadata": {},
   "source": [
    "In these lessons we are concerned with outcomes that occur randomly.  To calculate the probability fo an outcome we construct experiments.  All the possible outcomes of an experiment make up the sample space.<br/>\n",
    "Sticking with tradition, we should consider the example of flipping a fair coin four three (fair meanining it has an equal likelihood of landing face up or down).  Here is a list of all the possible outcomes:<br/>\n",
    "<ol>\n",
    "<li>HHH</li>\n",
    "<li>HHT</li>\n",
    "<li>HTH</li>\n",
    "<li>THH</li>\n",
    "<li>HTT</li>\n",
    "<li>THT</li>\n",
    "<li>TTH</li>\n",
    "<li>TTT</li>\n",
    "</ol>\n",
    "There are eight possible outcomes.  Those, though, are the outcomes if the experiment is about what the probability is of getting any of those particular outcomes.  The outcomes will be quite different if we ask what the probability is of getting both a head on the first and last flip.  Now the possible outcomes are:\n",
    "<ol>\n",
    "<li>HHH</li>\n",
    "<li>HTH</li>\n",
    "</ol>\n",
    "The possible outcomes for each of these experiments are called the *sample space*.  Note that the second sample space is a subset of the first sample space."
   ]
  },
  {
   "cell_type": "markdown",
   "metadata": {},
   "source": [
    "<hr>\n",
    "<h2>The multiplication principle</h2>"
   ]
  },
  {
   "cell_type": "markdown",
   "metadata": {},
   "source": [
    "The defintion of the multiplication principle states that if there is an experiment with $m$ outcomes and another with $n$ outcomes, then there are $mn$ possible outcomes for the two experiments.<br/>\n",
    "This is usually explained in set theory where we have two sets, $A$ and $B$.  We make ordered pairs, $\\left(a,b\\right)$ where every $ a \\in A $ and $ b \\in B $.  If there are $m$ elements in $A$ and $n$ elements in $B$ then there are $mn$ ordered pairs."
   ]
  },
  {
   "cell_type": "markdown",
   "metadata": {},
   "source": [
    "In the extended multiplication principle we consider that if there are $p$ experiments and the first has $ {n}_{1} $ outcomes and the second has $ {n}_{2} $ outcomes up to experiment $p$ with $ {n}_{p} $ outcomes, the total number of outcomes for the $p$ experiments are $ {n}_{1} \\times {n}_{2} \\times \\dots \\times {n}_{p} $."
   ]
  },
  {
   "cell_type": "markdown",
   "metadata": {},
   "source": [
    "Consider 8-bit binary computer code.  There are eight zeros or ones, so a sample space of two outcomes for every experiment (eight consecutive bits).  So, we have $ 2 \\times 2 \\times 2 \\times 2 \\times 2 \\times 2\\times 2 \\times 2 = {2}^{8} = 256 $ outcomes."
   ]
  },
  {
   "cell_type": "markdown",
   "metadata": {},
   "source": [
    "<hr>\n",
    "<h2>Permutation</h2>"
   ]
  },
  {
   "cell_type": "markdown",
   "metadata": {},
   "source": [
    "Here we are considering an ordered arrangement of elements.  Order in as much as *red*, *blue* and *blue*, *red* are two different permutations.<br/>\n",
    "During an experiment we can have two options, either *replacement* or *no replacement*.  If we have a deck of cards, we put each one back after selecting it in the case of *replacement* and in the case of *no replacement*, we obviously don't.<br/>\n",
    "Let's do a run of experiments.  We have five patients.  How many different ordered list of these five patients can we come up with.  Hint: this is a case of *no replacement*.  The problem is easy to solve if we remember the multiplication principles.  During the first experiment there are $5$ outcomes (each of the five patients can be selected).  We don't put that patient back in the mix after selecting them, so for the second experiment we have $4$ outcomes, and so on.  We end up with $ 5 \\times 4 \\times 3 \\times 2 \\times 1 = 5! = 120 $.  So, 120 different permutations.<br/>\n",
    "If we put each pateint back for reselection (which doesn't make sense for our list, but anyway), we have $5$ outcomes at every run of the experiment, so $ {5}^{5} $ outcomes.<br/>\n",
    "We can replace the number $5$ with an arbitrary value, usually $n$, so for *no replacement* we have $n!$ outcomes.<br/>\n",
    "What if we have want to make lists of three patients.  This will be $ 5 \\times 4 \\times 3 = 60 $ outcomes, or $ n \\left( n-1 \\right) \\left( n-2 \\right) \\dots \\left( n-r+1 \\right) $ outcomes, where $n$ is the number of patients to choose from and $r$ is the number of patients on the list.  In case you are wondering about the $ n-r+1 $ term, remember that at round one we have $n$ choices and at round two we have $ n-1 $ choices.  So by the time we get to $r$ we get $ n - \\left( r-1 \\right) = n-r+1 $."
   ]
  },
  {
   "cell_type": "markdown",
   "metadata": {},
   "source": [
    "It should be clear that the equation for permutations follow from the scenario above.  First we included all the patients and then only three, so in essence we have to get rid of the last two in the second iteration.\n",
    "$$ \\frac{5 \\times 4 \\times 3 \\times 2 \\times 1}{2 \\times 1} = \\frac{n!}{\\left( n - r \\right)!} $$"
   ]
  },
  {
   "cell_type": "markdown",
   "metadata": {},
   "source": [
    "We can use simple in-built Julia code for this."
   ]
  },
  {
   "cell_type": "code",
   "execution_count": 1,
   "metadata": {
    "collapsed": false
   },
   "outputs": [
    {
     "data": {
      "text/plain": [
       "120"
      ]
     },
     "execution_count": 1,
     "metadata": {},
     "output_type": "execute_result"
    }
   ],
   "source": [
    "# Including all five patients\n",
    "factorial(5)"
   ]
  },
  {
   "cell_type": "code",
   "execution_count": 2,
   "metadata": {
    "collapsed": false
   },
   "outputs": [
    {
     "data": {
      "text/plain": [
       "60.0"
      ]
     },
     "execution_count": 2,
     "metadata": {},
     "output_type": "execute_result"
    }
   ],
   "source": [
    "# Making ordered list of 3 patients choosing from 5, without replacement\n",
    "factorial(5) / factorial(5 - 3)"
   ]
  },
  {
   "cell_type": "markdown",
   "metadata": {},
   "source": [
    "In the next example we will look at how many alpha-numeric patient file numbers we can come up with if the first three places in the file number are letters of the alphabet and the last three are numbers from $0$ to $9$.  We once again use the multiplication principle.  Also note that we do have replacement.  Let's do it in Julia.  Just to be sure, we will be using values for the equation $ {\\left( { {n}_{\\alpha} } \\right)}^{r} {\\left( { {n}_{d} } \\right)}^{r} $ where $ {n}_{\\alpha} $ is the number of letters and $ {n}_{d} $ is the number of digits, with $r$ the number of choices."
   ]
  },
  {
   "cell_type": "code",
   "execution_count": 3,
   "metadata": {
    "collapsed": false
   },
   "outputs": [
    {
     "data": {
      "text/plain": [
       "17576000"
      ]
     },
     "execution_count": 3,
     "metadata": {},
     "output_type": "execute_result"
    }
   ],
   "source": [
    "(26^3)*(10^3)"
   ]
  },
  {
   "cell_type": "markdown",
   "metadata": {},
   "source": [
    "If we want to know what the probability is of getting a file number with no duplicates, we have to consider permutations (without replacement)."
   ]
  },
  {
   "cell_type": "markdown",
   "metadata": {
    "collapsed": true
   },
   "source": [
    "<hr>\n",
    "<h2>Combinations</h2>"
   ]
  },
  {
   "cell_type": "markdown",
   "metadata": {},
   "source": [
    "Combinations differ from permutations in that order is of no consequence.  Whereas the arrangement of three objects can be done in $3!$ ways (that is without replacement), combinations sees them all as one.  So red, green, blue and blue, red and green, and red, blue and green, etc. are all the same.<br/>\n",
    "How do we derive an equation for this?  Well, we know the equations for permutations $\\frac{n!}{\\left(n-r\\right)!}$.  Now, have a look at the table below.  We have four letters, a, b, c, and d and we have to choose three.  The question is: how many different combinations can we make?  Remember that a, b, c and c, b, a are exactely the same.<br/>\n",
    "$$\\begin{matrix} abc & acb & bac & bca & cab & cba \\\\ abd & adb & bad & bda & dab & dba \\\\ acd & adc & cad & cda & dac & dca \\\\ bcd & bdc & bcd & cdb & dbc & dcb \\end{matrix}$$\n",
    "We still get the expected 24 permutations, but note that we can reduce this to only four combinations, since aech same set of three letters can be arranged in six was ($3!$).  So we have to divide by six (the number of ways to arrange three objects without replacement).  The equations is now easy to derive, $\\frac{n!}{\\left(n-r\\right)!r!}$.  This is usually written as $\\begin{pmatrix} n \\\\ r \\end{pmatrix}$, pronounced <i>n choose r</i>."
   ]
  },
  {
   "cell_type": "markdown",
   "metadata": {},
   "source": [
    "Let's consider an example where we are manufacturing disposable surgical instruments.  We need to test them for quality control, but most definitely can't test them all.  As in many manufacturing quality-control program, a few are chosen at random and tested.  Consider that we have $n$ instruments and choose $r$ for testing.  Since the order in whcih we select them is of no consequence, we are dealing with combinations.  This means we can come up with $\\begin{pmatrix} n \\\\ r \\end{pmatrix}$ different sets of samples to test.<br/>\n",
    "Now, no manufacturing process is faultless, so let's say we have $k$ defective units.  The question is: How likely is it that we come up with $m$ defective instruments in our sample?  Our task would be to test as few as possible instruments, but still have a good measure of how many total defective instruments are being produced.<br/>\n",
    "To answer this question, start by considering how many ways we can come up with $m$ choices from a total of $k$ objeccts.  Remember, order doesn't matter, so it is $\\begin{pmatrix} k \\\\ m \\end{pmatrix}$.  There are $n-k$ properly functioning instruments.  Choosing $r-m$ from these leaves $\\begin{pmatrix} n-k \\\\ r-m \\end{pmatrix}$ combinations.  Now for the multiplication principle.  We have two experiments, each with their own number of outcomes.  We only need to answer our question now.  The probability that a sample contains $m$ defective instruments.  This would be the ratio of our multiplication to the total number of combinations, $\\frac { \\begin{pmatrix} k \\\\ m \\end{pmatrix}\\begin{pmatrix} n-k \\\\ r-m \\end{pmatrix} }{ \\begin{pmatrix} n \\\\ r \\end{pmatrix} } $."
   ]
  },
  {
   "cell_type": "markdown",
   "metadata": {},
   "source": [
    "<h3>Extending the concept of combinations further</h3>"
   ]
  },
  {
   "cell_type": "markdown",
   "metadata": {},
   "source": [
    "Suppose we have a total of $n$ objects.  We want to divide them into $i$ classes, with each class containing ${n}_{i}$ objects so that $\\sum _{ i }^{  }{ { n }_{ i } } =n$.<br/>\n",
    "We have to make use of combinations and the multiplication principle.  For the first class we have $\\begin{pmatrix} n \\\\ {n}_{1} \\end{pmatrix}$ combinations and the next one will have $\\begin{pmatrix} n - {n}_{1} \\\\ {n}_{2} \\end{pmatrix}$ combinations and so on.<br/>\n",
    "For $r$ classes this simplifies to $\\frac{n!}{{n}_{1}!{n}_{2}! \\cdots {n}_{r}!}$."
   ]
  },
  {
   "cell_type": "markdown",
   "metadata": {},
   "source": [
    "Consider this example.  We have eight researchers and have to divide them into three research units with a total of four researchers in the first unit, and two each in the other two.  How many combinations can we come up with?"
   ]
  },
  {
   "cell_type": "code",
   "execution_count": 4,
   "metadata": {
    "collapsed": false
   },
   "outputs": [
    {
     "data": {
      "text/plain": [
       "420.0"
      ]
     },
     "execution_count": 4,
     "metadata": {},
     "output_type": "execute_result"
    }
   ],
   "source": [
    "(factorial(8)) / (factorial(4) * factorial(2) * factorial(2))"
   ]
  },
  {
   "cell_type": "markdown",
   "metadata": {},
   "source": [
    "This extended form of using combinations solves a rather difficult problem.  If we have eight subjects to choose from, how many ways can we combine them, given that three of them are identical, another three are identical and the last two are also identical?  If they were all different individuals, there'd be $8!$ permutation (without replacement).  Choosing all of them would only leave us with a single combination, since no matter what oerdeer we put them in, it's the same combination of all eight.  Here is the solution, though."
   ]
  },
  {
   "cell_type": "code",
   "execution_count": 5,
   "metadata": {
    "collapsed": false
   },
   "outputs": [
    {
     "data": {
      "text/plain": [
       "560.0"
      ]
     },
     "execution_count": 5,
     "metadata": {},
     "output_type": "execute_result"
    }
   ],
   "source": [
    "(factorial(8)) / (factorial(3) * factorial(3) * factorial(2))"
   ]
  },
  {
   "cell_type": "markdown",
   "metadata": {},
   "source": [
    "<hr>\n",
    "<h2>Conditional probability</h2>"
   ]
  },
  {
   "cell_type": "code",
   "execution_count": null,
   "metadata": {
    "collapsed": true
   },
   "outputs": [],
   "source": []
  }
 ],
 "metadata": {
  "kernelspec": {
   "display_name": "Julia 0.4.1",
   "language": "julia",
   "name": "julia-0.4"
  },
  "language_info": {
   "file_extension": ".jl",
   "mimetype": "application/julia",
   "name": "julia",
   "version": "0.4.1"
  }
 },
 "nbformat": 4,
 "nbformat_minor": 0
}
